{
  "nbformat": 4,
  "nbformat_minor": 0,
  "metadata": {
    "colab": {
      "name": "combine_features.ipynb",
      "provenance": [],
      "collapsed_sections": [
        "hlE0eszh7geF",
        "JRkEiRV87yq3"
      ]
    },
    "kernelspec": {
      "name": "python3",
      "display_name": "Python 3"
    },
    "accelerator": "GPU"
  },
  "cells": [
    {
      "cell_type": "code",
      "metadata": {
        "id": "6zXQAXZlttuN",
        "colab_type": "code",
        "outputId": "9a285bcc-acd5-4c91-9b2f-a5622beb1f94",
        "colab": {
          "base_uri": "https://localhost:8080/",
          "height": 506
        }
      },
      "source": [
        "# Mount drive\n",
        "import os\n",
        "from google.colab import drive\n",
        "%cd /content\n",
        "drive.mount('/content/drive', force_remount=True)\n",
        "%cd 'drive/My Drive/Colab Notebooks/NLP/project/code'\n",
        "%ls -l\n",
        "print(os.listdir())"
      ],
      "execution_count": 1,
      "outputs": [
        {
          "output_type": "stream",
          "text": [
            "/content\n",
            "Mounted at /content/drive\n",
            "/content/drive/My Drive/Colab Notebooks/NLP/project/code\n",
            "total 3562\n",
            "-rw------- 1 root root 109039 May 10 14:28 Benchmark_embeddings_advanced.ipynb\n",
            "-rw------- 1 root root 318699 May 14 16:26 Benchmark_embeddings.ipynb\n",
            "-rw------- 1 root root   3534 Apr 22 16:32 cleaning.py\n",
            "-rw------- 1 root root 121164 May 15 14:58 combine_features.ipynb\n",
            "-rw------- 1 root root   4341 May 13 18:02 compute_embeddings.py\n",
            "-rw------- 1 root root  17705 May 14 19:36 MaLSTM_model.ipynb\n",
            "-rw------- 1 root root 363996 May  9 10:48 master.zip\n",
            "-rw------- 1 root root 363996 May  9 10:49 master.zip.1\n",
            "-rw------- 1 root root 363996 May  9 10:51 master.zip.2\n",
            "-rw------- 1 root root   4528 May 14 12:49 modeling.py\n",
            "drwx------ 2 root root   4096 May  3 09:43 \u001b[0m\u001b[01;34m__pycache__\u001b[0m/\n",
            "-rw------- 1 root root  21800 Apr 25 09:06 pytorch_tuto.ipynb\n",
            "drwx------ 2 root root   4096 May  1 16:25 \u001b[01;34msent2vec-master\u001b[0m/\n",
            "-rw------- 1 root root 926824 May 10 10:38 test.h5\n",
            "-rw------- 1 root root   4912 May 13 18:58 transform_dataset.py\n",
            "-rw------- 1 root root 808814 May  4 08:33 Untitled0.ipynb\n",
            "-rw------- 1 root root  22808 Apr 22 16:46 Untitled.ipynb\n",
            "-rw------- 1 root root   3545 Apr 22 16:32 utils_cleaning.py\n",
            "-rw------- 1 root root  21429 May  7 07:34 Vincent_doc2vec.ipynb\n",
            "-rw------- 1 root root  20152 Apr 25 16:47 Vincent.ipynb\n",
            "-rw------- 1 root root  83265 May  3 09:32 Vincent_SBERT.ipynb\n",
            "-rw------- 1 root root  50693 May  4 13:15 Vincent_tfidf.ipynb\n",
            "['cleaning.py', 'utils_cleaning.py', 'Untitled.ipynb', '.ipynb_checkpoints', 'pytorch_tuto.ipynb', '.vector_cache', 'Vincent.ipynb', 'sent2vec-master', 'Vincent_SBERT.ipynb', '__pycache__', 'Untitled0.ipynb', 'Vincent_tfidf.ipynb', 'Vincent_doc2vec.ipynb', 'master.zip', 'master.zip.1', 'master.zip.2', 'test.h5', 'Benchmark_embeddings_advanced.ipynb', 'compute_embeddings.py', 'transform_dataset.py', 'modeling.py', 'Benchmark_embeddings.ipynb', 'MaLSTM_model.ipynb', 'combine_features.ipynb']\n"
          ],
          "name": "stdout"
        }
      ]
    },
    {
      "cell_type": "code",
      "metadata": {
        "id": "tWTxI-zqNBu1",
        "colab_type": "code",
        "outputId": "de86df1e-89e0-484c-d573-741862685822",
        "colab": {
          "base_uri": "https://localhost:8080/",
          "height": 364
        }
      },
      "source": [
        "! pip install gensim==3.8.0\n",
        "! pip install fuzzywuzzy\n",
        "! pip install python-Levenshtein"
      ],
      "execution_count": 2,
      "outputs": [
        {
          "output_type": "stream",
          "text": [
            "Requirement already satisfied: gensim==3.8.0 in /usr/local/lib/python3.6/dist-packages (3.8.0)\n",
            "Requirement already satisfied: six>=1.5.0 in /usr/local/lib/python3.6/dist-packages (from gensim==3.8.0) (1.12.0)\n",
            "Requirement already satisfied: scipy>=0.18.1 in /usr/local/lib/python3.6/dist-packages (from gensim==3.8.0) (1.4.1)\n",
            "Requirement already satisfied: smart-open>=1.7.0 in /usr/local/lib/python3.6/dist-packages (from gensim==3.8.0) (2.0.0)\n",
            "Requirement already satisfied: numpy>=1.11.3 in /usr/local/lib/python3.6/dist-packages (from gensim==3.8.0) (1.18.4)\n",
            "Requirement already satisfied: boto in /usr/local/lib/python3.6/dist-packages (from smart-open>=1.7.0->gensim==3.8.0) (2.49.0)\n",
            "Requirement already satisfied: boto3 in /usr/local/lib/python3.6/dist-packages (from smart-open>=1.7.0->gensim==3.8.0) (1.13.4)\n",
            "Requirement already satisfied: requests in /usr/local/lib/python3.6/dist-packages (from smart-open>=1.7.0->gensim==3.8.0) (2.23.0)\n",
            "Requirement already satisfied: jmespath<1.0.0,>=0.7.1 in /usr/local/lib/python3.6/dist-packages (from boto3->smart-open>=1.7.0->gensim==3.8.0) (0.9.5)\n",
            "Requirement already satisfied: botocore<1.17.0,>=1.16.4 in /usr/local/lib/python3.6/dist-packages (from boto3->smart-open>=1.7.0->gensim==3.8.0) (1.16.4)\n",
            "Requirement already satisfied: s3transfer<0.4.0,>=0.3.0 in /usr/local/lib/python3.6/dist-packages (from boto3->smart-open>=1.7.0->gensim==3.8.0) (0.3.3)\n",
            "Requirement already satisfied: chardet<4,>=3.0.2 in /usr/local/lib/python3.6/dist-packages (from requests->smart-open>=1.7.0->gensim==3.8.0) (3.0.4)\n",
            "Requirement already satisfied: urllib3!=1.25.0,!=1.25.1,<1.26,>=1.21.1 in /usr/local/lib/python3.6/dist-packages (from requests->smart-open>=1.7.0->gensim==3.8.0) (1.24.3)\n",
            "Requirement already satisfied: certifi>=2017.4.17 in /usr/local/lib/python3.6/dist-packages (from requests->smart-open>=1.7.0->gensim==3.8.0) (2020.4.5.1)\n",
            "Requirement already satisfied: idna<3,>=2.5 in /usr/local/lib/python3.6/dist-packages (from requests->smart-open>=1.7.0->gensim==3.8.0) (2.9)\n",
            "Requirement already satisfied: python-dateutil<3.0.0,>=2.1 in /usr/local/lib/python3.6/dist-packages (from botocore<1.17.0,>=1.16.4->boto3->smart-open>=1.7.0->gensim==3.8.0) (2.8.1)\n",
            "Requirement already satisfied: docutils<0.16,>=0.10 in /usr/local/lib/python3.6/dist-packages (from botocore<1.17.0,>=1.16.4->boto3->smart-open>=1.7.0->gensim==3.8.0) (0.15.2)\n",
            "Requirement already satisfied: fuzzywuzzy in /usr/local/lib/python3.6/dist-packages (0.18.0)\n",
            "Requirement already satisfied: python-Levenshtein in /usr/local/lib/python3.6/dist-packages (0.12.0)\n",
            "Requirement already satisfied: setuptools in /usr/local/lib/python3.6/dist-packages (from python-Levenshtein) (46.1.3)\n"
          ],
          "name": "stdout"
        }
      ]
    },
    {
      "cell_type": "code",
      "metadata": {
        "id": "KnhumQEutvLF",
        "colab_type": "code",
        "outputId": "a7841390-24b1-442e-abe4-3905d54af3aa",
        "colab": {
          "base_uri": "https://localhost:8080/",
          "height": 173
        }
      },
      "source": [
        "from sklearn.metrics import log_loss, accuracy_score, f1_score, precision_score, recall_score\n",
        "import pandas as pd\n",
        "import numpy as np\n",
        "import random\n",
        "import re\n",
        "import time\n",
        "from string import punctuation\n",
        "import scipy.io\n",
        "import os\n",
        "import matplotlib.pyplot as plt\n",
        "import seaborn as sns\n",
        "import gensim\n",
        "import gc\n",
        "\n",
        "import pickle\n",
        "\n",
        "def save_pickle(filename, reviews_tokenized):\n",
        "  with open(filename, 'wb') as f:\n",
        "    pickle.dump(reviews_tokenized, f)\n",
        "\n",
        "def load_pickle(filename):\n",
        "  with open(filename, 'rb') as f:\n",
        "    x = pickle.load(f)\n",
        "  return x\n",
        "\n",
        "import transform_dataset\n",
        "import compute_embeddings\n",
        "import modeling\n",
        "\n",
        "print(gensim.__version__)"
      ],
      "execution_count": 3,
      "outputs": [
        {
          "output_type": "stream",
          "text": [
            "/usr/local/lib/python3.6/dist-packages/statsmodels/tools/_testing.py:19: FutureWarning: pandas.util.testing is deprecated. Use the functions in the public API at pandas.testing instead.\n",
            "  import pandas.util.testing as tm\n"
          ],
          "name": "stderr"
        },
        {
          "output_type": "stream",
          "text": [
            "[nltk_data] Downloading package punkt to /root/nltk_data...\n",
            "[nltk_data]   Package punkt is already up-to-date!\n",
            "[nltk_data] Downloading package wordnet to /root/nltk_data...\n",
            "[nltk_data]   Package wordnet is already up-to-date!\n",
            "[nltk_data] Downloading package stopwords to /root/nltk_data...\n",
            "[nltk_data]   Package stopwords is already up-to-date!\n",
            "3.8.0\n"
          ],
          "name": "stdout"
        }
      ]
    },
    {
      "cell_type": "code",
      "metadata": {
        "id": "AMpiFBaFt9ll",
        "colab_type": "code",
        "colab": {}
      },
      "source": [
        "questions1, questions2, is_duplicates = transform_dataset.clean_quora()\n",
        "# cleaned_questions1, cleaned_questions2, cleaned_is_duplicates = transform_dataset.clean_quora(output='tokenized_list')\n",
        "\n",
        "# cleaned_questions1 = load_pickle('../embeddings/tokenizer2_questions1')\n",
        "# cleaned_questions2 = load_pickle('../embeddings/tokenizer2_questions2')\n",
        "\n",
        "cleaned_questions1 = load_pickle('../data/tokenizer2_questions1')\n",
        "cleaned_questions2 = load_pickle('../data/tokenizer2_questions2')\n",
        "\n",
        "labels = np.array(is_duplicates)"
      ],
      "execution_count": 0,
      "outputs": []
    },
    {
      "cell_type": "code",
      "metadata": {
        "id": "1ub3x_TLvF91",
        "colab_type": "code",
        "colab": {}
      },
      "source": [
        "def get_features(embs1, embs2):\n",
        "  return np.concatenate((embs1, embs2, np.abs(embs2-embs1)), axis=1)\n",
        "  \n",
        "def calculate_features_from_embeddings(path, embedding1_file, embedding2_file):\n",
        "    embs1 = np.load(os.path.join(path, embedding1_file))\n",
        "    embs2 = np.load(os.path.join(path, embedding2_file))\n",
        "    return calculate_cosine(embs1, embs2)\n",
        "\n",
        "def calculate_cosine(embs1, embs2):\n",
        "    return (embs1 * embs2).sum(axis=1)/(np.linalg.norm(embs1, axis=1) * np.linalg.norm(embs2, axis=1))\n",
        "\n",
        "def jaccard_type_feature(count1, count2, eps=1e-12):\n",
        "  features = (count1.multiply(count2 != 0) + count2.multiply(count1 != 0)).sum(axis=1)\n",
        "  features = features / (count1.sum(axis=1) + count2.sum(axis=1) + eps)\n",
        "  return features"
      ],
      "execution_count": 0,
      "outputs": []
    },
    {
      "cell_type": "markdown",
      "metadata": {
        "id": "qt4PmyAVM3cf",
        "colab_type": "text"
      },
      "source": [
        "# Collect features"
      ]
    },
    {
      "cell_type": "markdown",
      "metadata": {
        "id": "oQs94Onq6vF5",
        "colab_type": "text"
      },
      "source": [
        "## Sentence embedding features"
      ]
    },
    {
      "cell_type": "code",
      "metadata": {
        "id": "Xk4l_L21Cy2_",
        "colab_type": "code",
        "colab": {}
      },
      "source": [
        "from sklearn.model_selection import train_test_split\n",
        "train_index, valid_index, _, _ = train_test_split(np.arange(len(questions1)), labels, train_size = 0.7, random_state=42, shuffle=True, stratify=labels)"
      ],
      "execution_count": 0,
      "outputs": []
    },
    {
      "cell_type": "code",
      "metadata": {
        "id": "q756iF2xBww0",
        "colab_type": "code",
        "colab": {
          "base_uri": "https://localhost:8080/",
          "height": 34
        },
        "outputId": "a7306cc0-9c90-41a4-e59c-9a3a94219ae9"
      },
      "source": [
        "from sklearn.linear_model import LogisticRegression\n",
        "import tensorflow\n",
        "import tensorflow.keras as keras\n",
        "from tensorflow.keras import layers\n",
        "import keras.backend as K\n",
        "import gc\n",
        "\n",
        "def get_simple_nn_model(input_dim, hidden_sizes=[32, 16, 8]):\n",
        "  model = keras.Sequential()\n",
        "  for i, hidden in enumerate(hidden_sizes):\n",
        "    if i==0:\n",
        "      model.add(layers.Dense(hidden, activation='relu', input_shape=(input_dim, )))\n",
        "    else:\n",
        "      model.add(layers.Dense(hidden, activation='relu'))\n",
        "  model.add(layers.Dense(1, activation='sigmoid'))\n",
        "\n",
        "  model.compile(loss='binary_crossentropy', optimizer='adam', metrics=['binary_crossentropy', 'accuracy'])\n",
        "\n",
        "  return model\n",
        "\n",
        "def learn_and_predict_(embs, labels, train_index, valid_index, model=LogisticRegression(), **params):\n",
        "  X_train, X_valid = embs[train_index], embs[valid_index]\n",
        "  y_train, y_valid = labels[train_index], labels[valid_index]\n",
        "\n",
        "  if issubclass(type(model), (tensorflow.python.keras.engine.sequential.Sequential, tensorflow.keras.Model)):\n",
        "      params['validation_data'] = (X_valid, y_valid)\n",
        "      \n",
        "  model.fit(X_train, y_train, **params)\n",
        "  \n",
        "  if hasattr(model, 'predict_proba'):\n",
        "      proba_predictions_train = model.predict_proba(X_train)\n",
        "      proba_predictions_valid = model.predict_proba(X_valid)\n",
        "  else:\n",
        "      proba_predictions_train = model.predict(X_train)\n",
        "      proba_predictions_valid = model.predict(X_valid)\n",
        "          \n",
        "  if proba_predictions_train.shape[1]==2:\n",
        "      predictions_train = proba_predictions_train.argmax(axis=1)\n",
        "      predictions_valid = proba_predictions_valid.argmax(axis=1)\n",
        "  else:\n",
        "      predictions_train = proba_predictions_train >= 0.5\n",
        "      predictions_valid = proba_predictions_valid >= 0.5\n",
        "\n",
        "  loss_train = log_loss(y_train, proba_predictions_train)\n",
        "  loss_valid = log_loss(y_valid, proba_predictions_valid)\n",
        "\n",
        "  accuracy_train = accuracy_score(y_train, predictions_train)\n",
        "  accuracy_valid = accuracy_score(y_valid, predictions_valid)\n",
        "\n",
        "  f1_train = f1_score(y_train, predictions_train)\n",
        "  f1_valid = f1_score(y_valid, predictions_valid)\n",
        "\n",
        "  print({'loss':np.round(loss_train,2), 'accuracy':np.round(accuracy_train,2), 'f1':np.round(f1_train,2)})\n",
        "  print({'loss':np.round(loss_valid,2), 'accuracy':np.round(accuracy_valid,2), 'f1':np.round(f1_valid,2)})\n",
        "\n",
        "  features = np.zeros((len(train_index)+len(valid_index), proba_predictions_train.shape[1]))\n",
        "  features[train_index] = proba_predictions_train\n",
        "  features[valid_index] = proba_predictions_valid\n",
        "\n",
        "  return features\n",
        "\n",
        "\n",
        "def learn_and_predict(embs, labels, train_index, valid_index, model=LogisticRegression(), **params):\n",
        "  # X_train, X_valid = embs[train_index], embs[valid_index]\n",
        "  # y_train, y_valid = labels[train_index], labels[valid_index]\n",
        "\n",
        "  # if issubclass(type(model), (tensorflow.python.keras.engine.sequential.Sequential, tensorflow.keras.Model)):\n",
        "  #     params['validation_data'] = (X_valid, y_valid)\n",
        "      \n",
        "  model.fit(embs[train_index], labels[train_index], **params)\n",
        "  \n",
        "  if hasattr(model, 'predict_proba'):\n",
        "      proba_predictions_train = model.predict_proba(embs[train_index])\n",
        "      if issubclass(type(model), (tensorflow.python.keras.engine.sequential.Sequential, tensorflow.keras.Model)):\n",
        "          K.clear_session()\n",
        "          gc.collect()\n",
        "      proba_predictions_valid = model.predict_proba(embs[valid_index])\n",
        "      if issubclass(type(model), (tensorflow.python.keras.engine.sequential.Sequential, tensorflow.keras.Model)):\n",
        "          K.clear_session()\n",
        "          gc.collect()\n",
        "  else:\n",
        "      proba_predictions_train = model.predict(embs[train_index])\n",
        "      if issubclass(type(model), (tensorflow.python.keras.engine.sequential.Sequential, tensorflow.keras.Model)):\n",
        "          K.clear_session()\n",
        "          gc.collect()\n",
        "      proba_predictions_valid = model.predict(embs[valid_index])\n",
        "      if issubclass(type(model), (tensorflow.python.keras.engine.sequential.Sequential, tensorflow.keras.Model)):\n",
        "          K.clear_session()\n",
        "          gc.collect()\n",
        "          \n",
        "  if proba_predictions_train.shape[1]==2:\n",
        "      predictions_train = proba_predictions_train.argmax(axis=1)\n",
        "      predictions_valid = proba_predictions_valid.argmax(axis=1)\n",
        "  else:\n",
        "      predictions_train = proba_predictions_train >= 0.5\n",
        "      predictions_valid = proba_predictions_valid >= 0.5\n",
        "\n",
        "  loss_train = log_loss(labels[train_index], proba_predictions_train)\n",
        "  loss_valid = log_loss(labels[valid_index], proba_predictions_valid)\n",
        "\n",
        "  accuracy_train = accuracy_score(labels[train_index], predictions_train)\n",
        "  accuracy_valid = accuracy_score(labels[valid_index], predictions_valid)\n",
        "\n",
        "  f1_train = f1_score(labels[train_index], predictions_train)\n",
        "  f1_valid = f1_score(labels[valid_index], predictions_valid)\n",
        "\n",
        "  print({'loss':np.round(loss_train,2), 'accuracy':np.round(accuracy_train,2), 'f1':np.round(f1_train,2)})\n",
        "  print({'loss':np.round(loss_valid,2), 'accuracy':np.round(accuracy_valid,2), 'f1':np.round(f1_valid,2)})\n",
        "\n",
        "  features = np.zeros((len(train_index)+len(valid_index), proba_predictions_train.shape[1]))\n",
        "  features[train_index] = proba_predictions_train\n",
        "  features[valid_index] = proba_predictions_valid\n",
        "\n",
        "  return features"
      ],
      "execution_count": 7,
      "outputs": [
        {
          "output_type": "stream",
          "text": [
            "Using TensorFlow backend.\n"
          ],
          "name": "stderr"
        }
      ]
    },
    {
      "cell_type": "code",
      "metadata": {
        "id": "SJPJ2StCvGAk",
        "colab_type": "code",
        "colab": {
          "base_uri": "https://localhost:8080/",
          "height": 34
        },
        "outputId": "e49353b0-deb1-44e6-c99d-6b5272593af2"
      },
      "source": [
        "import gc\n",
        "\n",
        "features = {}\n",
        "features2 = {}\n",
        "features3 = {}\n",
        "\n",
        "precomputed_embeddings = ['SBERT_embeddings{}.npy', 'doc2vec_embeddings{}.npy', 'sent2vec_embeddings{}.npy']\n",
        "for filename in precomputed_embeddings:\n",
        "  print(filename.split('_')[0])\n",
        "  embs1 = np.load(os.path.join('../embeddings/', filename.format(1)))\n",
        "  embs2 = np.load(os.path.join('../embeddings/', filename.format(2)))\n",
        "  features_ = get_features(embs1, embs2)\n",
        "\n",
        "  print('step 1')\n",
        "  cosine = calculate_cosine(embs1, embs2)\n",
        "  features[filename.split('_')[0]] = cosine\n",
        "\n",
        "# make space in RAM\n",
        "  embs1 = None\n",
        "  embs2 = None\n",
        "  gc.collect()\n",
        "\n",
        "  print('step 2')\n",
        "  features2[filename.split('_')[0]] = learn_and_predict(features_, labels, train_index, valid_index, model=LogisticRegression())[:,-1]  \n",
        "\n",
        "  print('step 3')\n",
        "  model = get_simple_nn_model(features_.shape[1], hidden_sizes=[32, 16, 8])\n",
        "  features3[filename.split('_')[0]] = learn_and_predict(features_, labels, train_index, valid_index, model=model, epochs=5, batch_size=64)[:,-1]  "
      ],
      "execution_count": 0,
      "outputs": [
        {
          "output_type": "stream",
          "text": [
            "SBERT\n"
          ],
          "name": "stdout"
        }
      ]
    },
    {
      "cell_type": "markdown",
      "metadata": {
        "id": "hlE0eszh7geF",
        "colab_type": "text"
      },
      "source": [
        "### To do it step by step for the big computations; not needed if above fit in RAM"
      ]
    },
    {
      "cell_type": "code",
      "metadata": {
        "id": "Wt0thw5o2BvD",
        "colab_type": "code",
        "colab": {}
      },
      "source": [
        "features3 = {}"
      ],
      "execution_count": 0,
      "outputs": []
    },
    {
      "cell_type": "code",
      "metadata": {
        "id": "vwj-jKBtrs5E",
        "colab_type": "code",
        "colab": {
          "base_uri": "https://localhost:8080/",
          "height": 243
        },
        "outputId": "de26e91f-3d8f-4e58-e750-38f7c778ebb8"
      },
      "source": [
        "filename = 'SBERT_embeddings{}.npy'\n",
        "embs1 = np.load(os.path.join('../embeddings/', filename.format(1)))\n",
        "embs2 = np.load(os.path.join('../embeddings/', filename.format(2)))\n",
        "features_ = get_features(embs1, embs2)\n",
        "\n",
        "embs1 = None\n",
        "embs2 = None\n",
        "gc.collect()\n",
        "\n",
        "print('step 3')\n",
        "model = get_simple_nn_model(features_.shape[1], hidden_sizes=[32, 16, 8])\n",
        "model.fit(features_[train_index], labels[train_index], epochs=5, batch_size=64)\n",
        "\n",
        "proba_predictions_train = model.predict(features_[train_index])\n",
        "if issubclass(type(model), (tensorflow.python.keras.engine.sequential.Sequential, tensorflow.keras.Model)):\n",
        "    K.clear_session()\n",
        "    gc.collect()\n",
        "proba_predictions_valid = model.predict(features_[valid_index])\n",
        "if issubclass(type(model), (tensorflow.python.keras.engine.sequential.Sequential, tensorflow.keras.Model)):\n",
        "    K.clear_session()\n",
        "    gc.collect()\n",
        "\n",
        "if proba_predictions_train.shape[1]==2:\n",
        "    predictions_train = proba_predictions_train.argmax(axis=1)\n",
        "    predictions_valid = proba_predictions_valid.argmax(axis=1)\n",
        "else:\n",
        "    predictions_train = proba_predictions_train >= 0.5\n",
        "    predictions_valid = proba_predictions_valid >= 0.5\n",
        "\n",
        "loss_train = log_loss(labels[train_index], proba_predictions_train)\n",
        "loss_valid = log_loss(labels[valid_index], proba_predictions_valid)\n",
        "\n",
        "accuracy_train = accuracy_score(labels[train_index], predictions_train)\n",
        "accuracy_valid = accuracy_score(labels[valid_index], predictions_valid)\n",
        "\n",
        "f1_train = f1_score(labels[train_index], predictions_train)\n",
        "f1_valid = f1_score(labels[valid_index], predictions_valid)\n",
        "\n",
        "print({'loss':np.round(loss_train,2), 'accuracy':np.round(accuracy_train,2), 'f1':np.round(f1_train,2)})\n",
        "print({'loss':np.round(loss_valid,2), 'accuracy':np.round(accuracy_valid,2), 'f1':np.round(f1_valid,2)})\n",
        "\n",
        "feats = np.zeros((len(train_index)+len(valid_index), proba_predictions_train.shape[1]))\n",
        "feats[train_index] = proba_predictions_train\n",
        "feats[valid_index] = proba_predictions_valid\n",
        "\n",
        "features3[filename.split('_')[0]] = feats[:,-1]  \n",
        "np.save('../data/SBERT_predictions.npy', feats[:,-1])"
      ],
      "execution_count": 8,
      "outputs": [
        {
          "output_type": "stream",
          "text": [
            "step 3\n",
            "Epoch 1/5\n",
            "4422/4422 [==============================] - 22s 5ms/step - loss: 0.4286 - binary_crossentropy: 0.4286 - accuracy: 0.7936\n",
            "Epoch 2/5\n",
            "4422/4422 [==============================] - 23s 5ms/step - loss: 0.3940 - binary_crossentropy: 0.3940 - accuracy: 0.8147\n",
            "Epoch 3/5\n",
            "4422/4422 [==============================] - 23s 5ms/step - loss: 0.3780 - binary_crossentropy: 0.3780 - accuracy: 0.8242\n",
            "Epoch 4/5\n",
            "4422/4422 [==============================] - 22s 5ms/step - loss: 0.3674 - binary_crossentropy: 0.3674 - accuracy: 0.8296\n",
            "Epoch 5/5\n",
            "4422/4422 [==============================] - 20s 5ms/step - loss: 0.3593 - binary_crossentropy: 0.3593 - accuracy: 0.8334\n",
            "{'loss': 0.35, 'accuracy': 0.84, 'f1': 0.79}\n",
            "{'loss': 0.37, 'accuracy': 0.83, 'f1': 0.77}\n"
          ],
          "name": "stdout"
        }
      ]
    },
    {
      "cell_type": "code",
      "metadata": {
        "id": "fEcDHk3GsGnV",
        "colab_type": "code",
        "colab": {
          "base_uri": "https://localhost:8080/",
          "height": 243
        },
        "outputId": "2b6dcb69-690b-44b7-f5f9-3704e5b00c59"
      },
      "source": [
        "filename = 'doc2vec_embeddings{}.npy'\n",
        "model = compute_embeddings.Doc2Vec_model('../../../stage/embeddings/doc2vec/enwiki_dbow/doc2vec.bin')\n",
        "# model = compute_embeddings.Doc2Vec_model('../embeddings/doc2vec/enwiki_dbow/doc2vec.bin')\n",
        "model.load_model()\n",
        "embs1 = model.calculate_embeddings(cleaned_questions1)\n",
        "embs2 = model.calculate_embeddings(cleaned_questions2)\n",
        "features_ = get_features(embs1, embs2)\n",
        "\n",
        "embs1 = None\n",
        "embs2 = None\n",
        "gc.collect()\n",
        "\n",
        "print('step 3')\n",
        "model = get_simple_nn_model(features_.shape[1], hidden_sizes=[32, 16, 8])\n",
        "model.fit(features_[train_index], labels[train_index], epochs=5, batch_size=64)\n",
        "\n",
        "proba_predictions_train = model.predict(features_[train_index])\n",
        "if issubclass(type(model), (tensorflow.python.keras.engine.sequential.Sequential, tensorflow.keras.Model)):\n",
        "    K.clear_session()\n",
        "    gc.collect()\n",
        "proba_predictions_valid = model.predict(features_[valid_index])\n",
        "if issubclass(type(model), (tensorflow.python.keras.engine.sequential.Sequential, tensorflow.keras.Model)):\n",
        "    K.clear_session()\n",
        "    gc.collect()\n",
        "\n",
        "if proba_predictions_train.shape[1]==2:\n",
        "    predictions_train = proba_predictions_train.argmax(axis=1)\n",
        "    predictions_valid = proba_predictions_valid.argmax(axis=1)\n",
        "else:\n",
        "    predictions_train = proba_predictions_train >= 0.5\n",
        "    predictions_valid = proba_predictions_valid >= 0.5\n",
        "\n",
        "loss_train = log_loss(labels[train_index], proba_predictions_train)\n",
        "loss_valid = log_loss(labels[valid_index], proba_predictions_valid)\n",
        "\n",
        "accuracy_train = accuracy_score(labels[train_index], predictions_train)\n",
        "accuracy_valid = accuracy_score(labels[valid_index], predictions_valid)\n",
        "\n",
        "f1_train = f1_score(labels[train_index], predictions_train)\n",
        "f1_valid = f1_score(labels[valid_index], predictions_valid)\n",
        "\n",
        "print({'loss':np.round(loss_train,2), 'accuracy':np.round(accuracy_train,2), 'f1':np.round(f1_train,2)})\n",
        "print({'loss':np.round(loss_valid,2), 'accuracy':np.round(accuracy_valid,2), 'f1':np.round(f1_valid,2)})\n",
        "\n",
        "feats = np.zeros((len(train_index)+len(valid_index), proba_predictions_train.shape[1]))\n",
        "feats[train_index] = proba_predictions_train\n",
        "feats[valid_index] = proba_predictions_valid\n",
        "\n",
        "features3[filename.split('_')[0]] = feats[:,-1]  \n",
        "np.save('../data/doc2vec_predictions.npy', feats[:,-1])"
      ],
      "execution_count": 12,
      "outputs": [
        {
          "output_type": "stream",
          "text": [
            "step 3\n",
            "Epoch 1/5\n",
            "4422/4422 [==============================] - 19s 4ms/step - loss: 0.5346 - binary_crossentropy: 0.5346 - accuracy: 0.7096\n",
            "Epoch 2/5\n",
            "4422/4422 [==============================] - 19s 4ms/step - loss: 0.5084 - binary_crossentropy: 0.5084 - accuracy: 0.7294\n",
            "Epoch 3/5\n",
            "4422/4422 [==============================] - 19s 4ms/step - loss: 0.4975 - binary_crossentropy: 0.4975 - accuracy: 0.7377\n",
            "Epoch 4/5\n",
            "4422/4422 [==============================] - 19s 4ms/step - loss: 0.4893 - binary_crossentropy: 0.4893 - accuracy: 0.7435\n",
            "Epoch 5/5\n",
            "4422/4422 [==============================] - 19s 4ms/step - loss: 0.4835 - binary_crossentropy: 0.4835 - accuracy: 0.7487\n",
            "{'loss': 0.47, 'accuracy': 0.75, 'f1': 0.67}\n",
            "{'loss': 0.49, 'accuracy': 0.74, 'f1': 0.65}\n"
          ],
          "name": "stdout"
        }
      ]
    },
    {
      "cell_type": "code",
      "metadata": {
        "id": "N-rqHCk21cE1",
        "colab_type": "code",
        "colab": {
          "base_uri": "https://localhost:8080/",
          "height": 243
        },
        "outputId": "81236b8c-5130-4036-8be3-fb27bdf979a7"
      },
      "source": [
        "filename = 'sent2vec_embeddings{}.npy'\n",
        "model = compute_embeddings.Sent2Vec('../../../stage/embeddings/sent2vec/sent2vec_toronto_books_unigrams')\n",
        "# model = compute_embeddings.Sent2Vec('../embeddings/sent2vec/sent2vec_toronto_books_unigrams')\n",
        "model.load_model()\n",
        "embs1 = model.calculate_embeddings(list(map(lambda x: ' '.join(x), cleaned_questions1)))\n",
        "embs2 = model.calculate_embeddings(list(map(lambda x: ' '.join(x), cleaned_questions2)))\n",
        "features_ = get_features(embs1, embs2)\n",
        "\n",
        "embs1 = None\n",
        "embs2 = None\n",
        "gc.collect()\n",
        "\n",
        "print('step 3')\n",
        "model = get_simple_nn_model(features_.shape[1], hidden_sizes=[32, 16, 8])\n",
        "model.fit(features_[train_index], labels[train_index], epochs=5, batch_size=64)\n",
        "\n",
        "proba_predictions_train = model.predict(features_[train_index])\n",
        "if issubclass(type(model), (tensorflow.python.keras.engine.sequential.Sequential, tensorflow.keras.Model)):\n",
        "    K.clear_session()\n",
        "    gc.collect()\n",
        "proba_predictions_valid = model.predict(features_[valid_index])\n",
        "if issubclass(type(model), (tensorflow.python.keras.engine.sequential.Sequential, tensorflow.keras.Model)):\n",
        "    K.clear_session()\n",
        "    gc.collect()\n",
        "\n",
        "if proba_predictions_train.shape[1]==2:\n",
        "    predictions_train = proba_predictions_train.argmax(axis=1)\n",
        "    predictions_valid = proba_predictions_valid.argmax(axis=1)\n",
        "else:\n",
        "    predictions_train = proba_predictions_train >= 0.5\n",
        "    predictions_valid = proba_predictions_valid >= 0.5\n",
        "\n",
        "loss_train = log_loss(labels[train_index], proba_predictions_train)\n",
        "loss_valid = log_loss(labels[valid_index], proba_predictions_valid)\n",
        "\n",
        "accuracy_train = accuracy_score(labels[train_index], predictions_train)\n",
        "accuracy_valid = accuracy_score(labels[valid_index], predictions_valid)\n",
        "\n",
        "f1_train = f1_score(labels[train_index], predictions_train)\n",
        "f1_valid = f1_score(labels[valid_index], predictions_valid)\n",
        "\n",
        "print({'loss':np.round(loss_train,2), 'accuracy':np.round(accuracy_train,2), 'f1':np.round(f1_train,2)})\n",
        "print({'loss':np.round(loss_valid,2), 'accuracy':np.round(accuracy_valid,2), 'f1':np.round(f1_valid,2)})\n",
        "\n",
        "feats = np.zeros((len(train_index)+len(valid_index), proba_predictions_train.shape[1]))\n",
        "feats[train_index] = proba_predictions_train\n",
        "feats[valid_index] = proba_predictions_valid\n",
        "\n",
        "features3[filename.split('_')[0]] = feats[:,-1]  \n",
        "np.save('../data/sent2vec_predictions.npy', feats[:,-1])"
      ],
      "execution_count": 11,
      "outputs": [
        {
          "output_type": "stream",
          "text": [
            "step 3\n",
            "Epoch 1/5\n",
            "4422/4422 [==============================] - 20s 5ms/step - loss: 0.5280 - binary_crossentropy: 0.5280 - accuracy: 0.7343\n",
            "Epoch 2/5\n",
            "4422/4422 [==============================] - 20s 4ms/step - loss: 0.4782 - binary_crossentropy: 0.4782 - accuracy: 0.7640\n",
            "Epoch 3/5\n",
            "4422/4422 [==============================] - 20s 4ms/step - loss: 0.4553 - binary_crossentropy: 0.4553 - accuracy: 0.7766\n",
            "Epoch 4/5\n",
            "4422/4422 [==============================] - 20s 5ms/step - loss: 0.4378 - binary_crossentropy: 0.4378 - accuracy: 0.7859\n",
            "Epoch 5/5\n",
            "4422/4422 [==============================] - 20s 5ms/step - loss: 0.4232 - binary_crossentropy: 0.4232 - accuracy: 0.7945\n",
            "{'loss': 0.4, 'accuracy': 0.81, 'f1': 0.75}\n",
            "{'loss': 0.48, 'accuracy': 0.77, 'f1': 0.69}\n"
          ],
          "name": "stdout"
        }
      ]
    },
    {
      "cell_type": "markdown",
      "metadata": {
        "id": "JRkEiRV87yq3",
        "colab_type": "text"
      },
      "source": [
        "### Continue with simpler computations"
      ]
    },
    {
      "cell_type": "code",
      "metadata": {
        "id": "7wcsbtmptvNj",
        "colab_type": "code",
        "colab": {
          "base_uri": "https://localhost:8080/",
          "height": 295
        },
        "outputId": "f2939f95-a847-4603-a092-c8a6c33fdab6"
      },
      "source": [
        "model = compute_embeddings.SIF()\n",
        "# model = SIF()\n",
        "model.load_model()\n",
        "model.fit(cleaned_questions1+cleaned_questions2)\n",
        "embs1 = model.calculate_embeddings(cleaned_questions1)\n",
        "embs2 = model.calculate_embeddings(cleaned_questions2)\n",
        "features_ = get_features(embs1, embs2)\n",
        "\n",
        "cosine = calculate_cosine(embs1, embs2)\n",
        "features['SIF'] = cosine\n",
        "\n",
        "embs1 = None\n",
        "embs2 = None\n",
        "gc.collect()\n",
        "\n",
        "features2['SIF'] = learn_and_predict(features_, labels, train_index, valid_index, model=LogisticRegression())[:,-1]\n",
        "\n",
        "model = get_simple_nn_model(features_.shape[1], hidden_sizes=[32, 16, 8])\n",
        "features3['SIF'] = learn_and_predict(features_, labels, train_index, valid_index, model=model, epochs=5, batch_size=64)[:,-1]\n",
        "\n",
        "np.save('../data/SIF_predictions.npy', features3['SIF'])"
      ],
      "execution_count": 12,
      "outputs": [
        {
          "output_type": "stream",
          "text": [
            "[=================================================-] 98.4% 126.0/128.1MB downloaded\n",
            "Epoch 1/5\n",
            "4422/4422 [==============================] - 19s 4ms/step - loss: 0.5565 - binary_crossentropy: 0.5565 - accuracy: 0.7100\n",
            "Epoch 2/5\n",
            "4422/4422 [==============================] - 19s 4ms/step - loss: 0.5227 - binary_crossentropy: 0.5227 - accuracy: 0.7326\n",
            "Epoch 3/5\n",
            "4422/4422 [==============================] - 19s 4ms/step - loss: 0.5101 - binary_crossentropy: 0.5101 - accuracy: 0.7396\n",
            "Epoch 4/5\n",
            "4422/4422 [==============================] - 19s 4ms/step - loss: 0.5027 - binary_crossentropy: 0.5027 - accuracy: 0.7431\n",
            "Epoch 5/5\n",
            "4422/4422 [==============================] - 19s 4ms/step - loss: 0.4974 - binary_crossentropy: 0.4974 - accuracy: 0.7460\n",
            "WARNING:tensorflow:From <ipython-input-7-e7e73debd297>:73: Sequential.predict_proba (from tensorflow.python.keras.engine.sequential) is deprecated and will be removed after 2021-01-01.\n",
            "Instructions for updating:\n",
            "Please use `model.predict()` instead.\n",
            "{'loss': 0.49, 'accuracy': 0.75, 'f1': 0.64}\n",
            "{'loss': 0.51, 'accuracy': 0.74, 'f1': 0.62}\n"
          ],
          "name": "stdout"
        }
      ]
    },
    {
      "cell_type": "code",
      "metadata": {
        "id": "QjXBvWQHyYsA",
        "colab_type": "code",
        "colab": {
          "base_uri": "https://localhost:8080/",
          "height": 52
        },
        "outputId": "78301597-8397-484e-8e98-08aee364a3df"
      },
      "source": [
        "model = compute_embeddings.Count()\n",
        "model.load_model()\n",
        "model.fit(list(map(lambda x: ' '.join(x), cleaned_questions1)) + list(map(lambda x: ' '.join(x), cleaned_questions2)))\n",
        "count_embs1 = model.calculate_embeddings(list(map(lambda x: ' '.join(x), cleaned_questions1)))\n",
        "count_embs2 = model.calculate_embeddings(list(map(lambda x: ' '.join(x), cleaned_questions2)))\n",
        "count_features = jaccard_type_feature(count_embs1, count_embs2)\n",
        "\n",
        "features['Count'] = np.array(count_features)[:,0]\n",
        "\n",
        "features2['Count'] = np.array(count_features)[:,0]\n",
        "\n",
        "features3['Count'] = np.array(count_features)[:,0]"
      ],
      "execution_count": 18,
      "outputs": [
        {
          "output_type": "stream",
          "text": [
            "/usr/local/lib/python3.6/dist-packages/sklearn/feature_extraction/text.py:507: UserWarning: The parameter 'token_pattern' will not be used since 'tokenizer' is not None'\n",
            "  warnings.warn(\"The parameter 'token_pattern' will not be used\"\n"
          ],
          "name": "stderr"
        }
      ]
    },
    {
      "cell_type": "code",
      "metadata": {
        "id": "z3oYCxLwyvvP",
        "colab_type": "code",
        "colab": {
          "base_uri": "https://localhost:8080/",
          "height": 52
        },
        "outputId": "c5484245-12b7-4454-f1c2-6d407aefa297"
      },
      "source": [
        "model = compute_embeddings.TFIDF()\n",
        "model.load_model()\n",
        "model.fit(questions1 + questions2)\n",
        "tfidf_embs1 = model.calculate_embeddings(questions1)\n",
        "tfidf_embs2 = model.calculate_embeddings(questions2)\n",
        "tfidf_features = jaccard_type_feature(tfidf_embs1, tfidf_embs2)\n",
        "\n",
        "features['TFIDF'] = np.array(tfidf_features)[:,0]\n",
        "\n",
        "features2['TFIDF'] = np.array(tfidf_features)[:,0]\n",
        "\n",
        "features3['TFIDF'] = np.array(tfidf_features)[:,0]"
      ],
      "execution_count": 21,
      "outputs": [
        {
          "output_type": "stream",
          "text": [
            "/usr/local/lib/python3.6/dist-packages/sklearn/feature_extraction/text.py:507: UserWarning: The parameter 'token_pattern' will not be used since 'tokenizer' is not None'\n",
            "  warnings.warn(\"The parameter 'token_pattern' will not be used\"\n"
          ],
          "name": "stderr"
        }
      ]
    },
    {
      "cell_type": "markdown",
      "metadata": {
        "id": "bKhYXChX7pLF",
        "colab_type": "text"
      },
      "source": [
        "### Load it"
      ]
    },
    {
      "cell_type": "code",
      "metadata": {
        "id": "IXWLGNxVIzb_",
        "colab_type": "code",
        "colab": {}
      },
      "source": [
        "# save_pickle('../data/features2_sentence_embeddings', features2)\n",
        "# features2 = load_pickle('../data/features2_sentence_embeddings')\n",
        "\n",
        "save_pickle('../data/features3_sentence_embeddings', features3)\n",
        "# features3 = load_pickle('../data/features3_sentence_embeddings')"
      ],
      "execution_count": 0,
      "outputs": []
    },
    {
      "cell_type": "markdown",
      "metadata": {
        "id": "25Y1KJCN6yW2",
        "colab_type": "text"
      },
      "source": [
        "## Basic features"
      ]
    },
    {
      "cell_type": "code",
      "metadata": {
        "id": "9V2EE2WcDCOy",
        "colab_type": "code",
        "colab": {}
      },
      "source": [
        "df_train = pd.read_csv(\"../data/train.csv\")\n",
        "df_train = df_train.drop(['id', 'qid1', 'qid2'], axis=1)\n",
        "df_train[\"question1\"] = df_train[\"question1\"].astype(\"str\")\n",
        "df_train[\"question2\"] = df_train[\"question2\"].astype('str')"
      ],
      "execution_count": 0,
      "outputs": []
    },
    {
      "cell_type": "code",
      "metadata": {
        "id": "UUzK8A3dDCSS",
        "colab_type": "code",
        "colab": {}
      },
      "source": [
        "# length based features\n",
        "df_train['len_q1'] = df_train.question1.apply(lambda x: len(str(x)))\n",
        "df_train['len_q2'] = df_train.question2.apply(lambda x: len(str(x)))\n",
        "# difference in lengths of two questions\n",
        "df_train['diff_len'] = df_train.len_q1 - df_train.len_q2\n",
        "\n",
        "# character length based features\n",
        "df_train['len_char_q1'] = df_train.question1.apply(lambda x: len(''.join(set(str(x).replace(' ', '')))))\n",
        "df_train['len_char_q2'] = df_train.question2.apply(lambda x: len(''.join(set(str(x).replace(' ', '')))))\n",
        "\n",
        "# word length based features\n",
        "df_train['len_word_q1'] = df_train.question1.apply(lambda x: len(str(x).split()))\n",
        "df_train['len_word_q2'] = df_train.question2.apply(lambda x: len(str(x).split()))\n",
        "\n",
        "# common words in the two questions\n",
        "df_train['common_words'] = df_train.apply(lambda x: len(set(str(x['question1'])\n",
        "    .lower().split())\n",
        "    .intersection(set(str(x['question2'])\n",
        "    .lower().split()))), axis=1)\n",
        "\n",
        "basics = ['len_q1', 'len_q2', 'diff_len', 'len_char_q1', 'len_char_q2', 'len_word_q1', 'len_word_q2', 'common_words']"
      ],
      "execution_count": 0,
      "outputs": []
    },
    {
      "cell_type": "code",
      "metadata": {
        "id": "9R0W7DVnDOl5",
        "colab_type": "code",
        "colab": {}
      },
      "source": [
        "import fuzzywuzzy\n",
        "from fuzzywuzzy import fuzz\n",
        "\n",
        "df_train['fuzz_qratio'] = df_train.apply(lambda x: fuzz.QRatio(str(x['question1']), str(x['question2'])), axis=1)\n",
        "\n",
        "df_train['fuzz_WRatio'] = df_train.apply(lambda x: fuzz.WRatio(str(x['question1']), str(x['question2'])), axis=1)\n",
        "\n",
        "df_train['fuzz_partial_ratio'] = df_train.apply(lambda x: fuzz.partial_ratio(\n",
        "    str(x['question1']), str(x['question2'])), axis=1)\n",
        "\n",
        "df_train['fuzz_partial_token_set_ratio'] = df_train.apply(lambda x: fuzz.partial_token_set_ratio(\n",
        "    str(x['question1']), str(x['question2'])), axis=1)\n",
        "\n",
        "df_train['fuzz_partial_token_sort_ratio'] = df_train.apply(lambda x: fuzz.partial_token_sort_ratio(\n",
        "    str(x['question1']), str(x['question2'])), axis=1)\n",
        "\n",
        "df_train['fuzz_token_set_ratio'] = df_train.apply(lambda x: fuzz.token_set_ratio(\n",
        "str(x['question1']), str(x['question2'])), axis=1)\n",
        "\n",
        "df_train['fuzz_token_sort_ratio'] = df_train.apply(lambda x: fuzz.token_sort_ratio(\n",
        "    str(x['question1']), str(x['question2'])), axis=1)\n",
        "\n",
        "fuzzys = ['fuzz_qratio', 'fuzz_WRatio', 'fuzz_partial_ratio', 'fuzz_partial_token_set_ratio',\n",
        "          'fuzz_partial_token_sort_ratio','fuzz_token_set_ratio', 'fuzz_token_sort_ratio']"
      ],
      "execution_count": 0,
      "outputs": []
    },
    {
      "cell_type": "markdown",
      "metadata": {
        "id": "TJfT0d6k60vo",
        "colab_type": "text"
      },
      "source": [
        "## Word matching features\n",
        "\n",
        "There are also interesting features"
      ]
    },
    {
      "cell_type": "code",
      "metadata": {
        "id": "ZfYmw0JC-deg",
        "colab_type": "code",
        "outputId": "46e6bdc9-5b91-4dcb-c0ea-89e6ca04d85a",
        "colab": {
          "base_uri": "https://localhost:8080/",
          "height": 69
        }
      },
      "source": [
        "import nltk\n",
        "from nltk.corpus import stopwords\n",
        "nltk.download('stopwords')"
      ],
      "execution_count": 28,
      "outputs": [
        {
          "output_type": "stream",
          "text": [
            "[nltk_data] Downloading package stopwords to /root/nltk_data...\n",
            "[nltk_data]   Package stopwords is already up-to-date!\n"
          ],
          "name": "stdout"
        },
        {
          "output_type": "execute_result",
          "data": {
            "text/plain": [
              "True"
            ]
          },
          "metadata": {
            "tags": []
          },
          "execution_count": 28
        }
      ]
    },
    {
      "cell_type": "code",
      "metadata": {
        "id": "mlCGhE3B67EB",
        "colab_type": "code",
        "colab": {}
      },
      "source": [
        "from sklearn.feature_extraction.text import TfidfVectorizer, CountVectorizer\n",
        "tfidf = TfidfVectorizer(strip_accents='unicode', analyzer='word', stop_words=stopwords.words('english'), min_df=2)\n",
        "countvectorizer = CountVectorizer(strip_accents='unicode', analyzer='word', stop_words=stopwords.words('english'), min_df=2)"
      ],
      "execution_count": 0,
      "outputs": []
    },
    {
      "cell_type": "code",
      "metadata": {
        "id": "tqq4YhWP67G7",
        "colab_type": "code",
        "colab": {}
      },
      "source": [
        "# tfidf_embs = tfidf.fit_transform(list(map(lambda x: ' '.join(x), cleaned_questions1)) + list(map(lambda x: ' '.join(x), cleaned_questions2)))\n",
        "# count_embs = countvectorizer.fit_transform(list(map(lambda x: ' '.join(x), cleaned_questions1)) + list(map(lambda x: ' '.join(x), cleaned_questions2)))\n",
        "\n",
        "tfidf_embs = tfidf.fit_transform(questions1 + questions2)\n",
        "count_embs = countvectorizer.fit_transform(questions1 + questions2)"
      ],
      "execution_count": 0,
      "outputs": []
    },
    {
      "cell_type": "code",
      "metadata": {
        "id": "31HQokoY9HZ2",
        "colab_type": "code",
        "colab": {}
      },
      "source": [
        "tfidf_embs1 = tfidf_embs[:len(questions1)]\n",
        "tfidf_embs2 = tfidf_embs[-len(questions2):]\n",
        "\n",
        "count_embs1 = count_embs[:len(questions1)]\n",
        "count_embs2 = count_embs[-len(questions2):]"
      ],
      "execution_count": 0,
      "outputs": []
    },
    {
      "cell_type": "code",
      "metadata": {
        "id": "ubvWwOxh67Kx",
        "colab_type": "code",
        "colab": {}
      },
      "source": [
        "tfidf_features = (tfidf_embs1.multiply(tfidf_embs2 != 0) + tfidf_embs2.multiply(tfidf_embs1 != 0)).sum(axis=1)\n",
        "tfidf_features = tfidf_features / (tfidf_embs1.sum(axis=1) + tfidf_embs2.sum(axis=1) + 1e-12)\n",
        "\n",
        "count_features = (count_embs1.multiply(count_embs2 != 0) + count_embs2.multiply(count_embs1 != 0)).sum(axis=1)\n",
        "count_features = count_features / (count_embs1.sum(axis=1) + count_embs2.sum(axis=1) + 1e-12)"
      ],
      "execution_count": 0,
      "outputs": []
    },
    {
      "cell_type": "code",
      "metadata": {
        "id": "LP1Km700_n3p",
        "colab_type": "code",
        "outputId": "2920eedd-119e-4111-a176-36e591023066",
        "colab": {
          "base_uri": "https://localhost:8080/",
          "height": 34
        }
      },
      "source": [
        "count_features.shape"
      ],
      "execution_count": 33,
      "outputs": [
        {
          "output_type": "execute_result",
          "data": {
            "text/plain": [
              "(404290, 1)"
            ]
          },
          "metadata": {
            "tags": []
          },
          "execution_count": 33
        }
      ]
    },
    {
      "cell_type": "code",
      "metadata": {
        "id": "UQ3J5J1e_dkX",
        "colab_type": "code",
        "outputId": "73b2026f-964f-4996-a525-5fd578009f4a",
        "colab": {
          "base_uri": "https://localhost:8080/",
          "height": 587
        }
      },
      "source": [
        "plt.hist(count_features[labels==0], bins=20, density=True, label='Not Duplicate')\n",
        "plt.hist(count_features[labels==1], bins=20, density=True, alpha=0.7, label='Duplicate')\n",
        "plt.legend()\n",
        "plt.title('Distribution over word match share', fontsize=15)\n",
        "plt.xlabel('word match share', fontsize=15)\n",
        "plt.show()\n",
        "\n",
        "plt.hist(tfidf_features[labels==0], bins=20, density=True, label='Not Duplicate')\n",
        "plt.hist(tfidf_features[labels==1], bins=20, density=True, alpha=0.7, label='Duplicate')\n",
        "plt.legend()\n",
        "plt.title('Distribution over tfidf match share', fontsize=15)\n",
        "plt.xlabel('tfidf match share', fontsize=15)\n",
        "plt.show()"
      ],
      "execution_count": 0,
      "outputs": [
        {
          "output_type": "display_data",
          "data": {
            "image/png": "[encoded data removed]",
            "text/plain": [
              "<Figure size 432x288 with 1 Axes>"
            ]
          },
          "metadata": {
            "tags": [],
            "needs_background": "light"
          }
        },
        {
          "output_type": "display_data",
          "data": {
            "image/png": "[encoded data removed]",
            "text/plain": [
              "<Figure size 432x288 with 1 Axes>"
            ]
          },
          "metadata": {
            "tags": [],
            "needs_background": "light"
          }
        }
      ]
    },
    {
      "cell_type": "code",
      "metadata": {
        "id": "ud17GdFH91tX",
        "colab_type": "code",
        "colab": {}
      },
      "source": [
        "match_share_features = np.concatenate((count_features, tfidf_features), axis=1)\n",
        "word_match_shares = ['word_match', 'tfidf_match']"
      ],
      "execution_count": 0,
      "outputs": []
    },
    {
      "cell_type": "code",
      "metadata": {
        "id": "M0g0HRiMArc6",
        "colab_type": "code",
        "outputId": "32787654-56e3-4109-d491-c38e66340e5f",
        "colab": {
          "base_uri": "https://localhost:8080/",
          "height": 816
        }
      },
      "source": [
        "modeling.model_efficiency_xgb(match_share_features, labels)"
      ],
      "execution_count": 0,
      "outputs": [
        {
          "output_type": "stream",
          "text": [
            "[0]\ttrain-logloss:0.687141\tvalid-logloss:0.687947\n",
            "Multiple eval metrics have been passed: 'valid-logloss' will be used for early stopping.\n",
            "\n",
            "Will train until valid-logloss hasn't improved in 50 rounds.\n",
            "[10]\ttrain-logloss:0.646768\tvalid-logloss:0.646086\n",
            "[20]\ttrain-logloss:0.616451\tvalid-logloss:0.616127\n",
            "[30]\ttrain-logloss:0.594551\tvalid-logloss:0.594043\n",
            "[40]\ttrain-logloss:0.57808\tvalid-logloss:0.577706\n",
            "[50]\ttrain-logloss:0.565825\tvalid-logloss:0.565221\n",
            "[60]\ttrain-logloss:0.556448\tvalid-logloss:0.55561\n",
            "[70]\ttrain-logloss:0.548724\tvalid-logloss:0.548634\n",
            "[80]\ttrain-logloss:0.543333\tvalid-logloss:0.542662\n",
            "[90]\ttrain-logloss:0.538529\tvalid-logloss:0.538005\n",
            "[100]\ttrain-logloss:0.534854\tvalid-logloss:0.534338\n",
            "[110]\ttrain-logloss:0.532141\tvalid-logloss:0.531415\n",
            "[120]\ttrain-logloss:0.529564\tvalid-logloss:0.529222\n",
            "[130]\ttrain-logloss:0.528056\tvalid-logloss:0.527421\n",
            "[140]\ttrain-logloss:0.526546\tvalid-logloss:0.526089\n",
            "[150]\ttrain-logloss:0.525556\tvalid-logloss:0.524981\n",
            "[160]\ttrain-logloss:0.524366\tvalid-logloss:0.524008\n",
            "[170]\ttrain-logloss:0.523588\tvalid-logloss:0.52327\n",
            "[180]\ttrain-logloss:0.522992\tvalid-logloss:0.52259\n",
            "[190]\ttrain-logloss:0.522686\tvalid-logloss:0.522285\n",
            "[200]\ttrain-logloss:0.522536\tvalid-logloss:0.521761\n",
            "[210]\ttrain-logloss:0.521815\tvalid-logloss:0.521383\n",
            "[220]\ttrain-logloss:0.521475\tvalid-logloss:0.521214\n",
            "[230]\ttrain-logloss:0.521088\tvalid-logloss:0.520723\n",
            "[240]\ttrain-logloss:0.520901\tvalid-logloss:0.52049\n",
            "[250]\ttrain-logloss:0.520639\tvalid-logloss:0.520347\n",
            "[260]\ttrain-logloss:0.520338\tvalid-logloss:0.520273\n",
            "[270]\ttrain-logloss:0.520283\tvalid-logloss:0.52013\n",
            "[280]\ttrain-logloss:0.520193\tvalid-logloss:0.51995\n",
            "[290]\ttrain-logloss:0.520068\tvalid-logloss:0.519546\n",
            "[300]\ttrain-logloss:0.519886\tvalid-logloss:0.5194\n",
            "[310]\ttrain-logloss:0.519712\tvalid-logloss:0.519378\n",
            "[320]\ttrain-logloss:0.519588\tvalid-logloss:0.519274\n",
            "[330]\ttrain-logloss:0.51938\tvalid-logloss:0.51911\n",
            "[340]\ttrain-logloss:0.51928\tvalid-logloss:0.518947\n",
            "[350]\ttrain-logloss:0.518899\tvalid-logloss:0.518843\n",
            "[360]\ttrain-logloss:0.518666\tvalid-logloss:0.518569\n",
            "[370]\ttrain-logloss:0.518657\tvalid-logloss:0.518518\n",
            "[380]\ttrain-logloss:0.518517\tvalid-logloss:0.518321\n",
            "[390]\ttrain-logloss:0.518355\tvalid-logloss:0.518199\n",
            "[399]\ttrain-logloss:0.518175\tvalid-logloss:0.518084\n"
          ],
          "name": "stdout"
        },
        {
          "output_type": "execute_result",
          "data": {
            "text/plain": [
              "({'accuracy': 0.69, 'f1': 0.59, 'loss': 0.52},\n",
              " {'accuracy': 0.69, 'f1': 0.59, 'loss': 0.52})"
            ]
          },
          "metadata": {
            "tags": []
          },
          "execution_count": 53
        }
      ]
    },
    {
      "cell_type": "markdown",
      "metadata": {
        "id": "IWNcWPWN5wo8",
        "colab_type": "text"
      },
      "source": [
        "## Concatenation of all features"
      ]
    },
    {
      "cell_type": "code",
      "metadata": {
        "id": "h4yi6kfd0NIZ",
        "colab_type": "code",
        "colab": {
          "base_uri": "https://localhost:8080/",
          "height": 34
        },
        "outputId": "aaaa8092-1f5b-42fe-a962-cd735f1e7214"
      },
      "source": [
        "feature_names = list(features.keys())\n",
        "print([features[name].shape for name in feature_names])\n",
        "all_features = np.concatenate([features[name][:,None] for name in feature_names], axis=1)\n",
        "all_features2 = np.concatenate([features2[name][:,None] for name in feature_names], axis=1)\n",
        "all_features3 = np.concatenate([features3[name][:,None] for name in feature_names], axis=1)\n",
        "labels = np.array(is_duplicates)"
      ],
      "execution_count": 35,
      "outputs": [
        {
          "output_type": "stream",
          "text": [
            "[(404290,), (404290,), (404290,), (404290,), (404290,), (404290,)]\n"
          ],
          "name": "stdout"
        }
      ]
    },
    {
      "cell_type": "code",
      "metadata": {
        "id": "Bwb7Qg4aEB1c",
        "colab_type": "code",
        "colab": {}
      },
      "source": [
        "all_features = np.concatenate((all_features, df_train[basics+fuzzys].values, match_share_features), axis=1)\n",
        "all_features2 = np.concatenate((all_features2, df_train[basics+fuzzys].values, match_share_features), axis=1)\n",
        "all_features3 = np.concatenate((all_features3, df_train[basics+fuzzys].values, match_share_features), axis=1)"
      ],
      "execution_count": 0,
      "outputs": []
    },
    {
      "cell_type": "code",
      "metadata": {
        "id": "2FMWhYhJ6GIW",
        "colab_type": "code",
        "colab": {}
      },
      "source": [
        "# np.save('../data/features.npy', all_features)\n",
        "# np.save('../data/features2.npy', all_features2)\n",
        "# np.save('../data/features3.npy', all_features3)"
      ],
      "execution_count": 0,
      "outputs": []
    },
    {
      "cell_type": "markdown",
      "metadata": {
        "id": "B_9cvKc-NKro",
        "colab_type": "text"
      },
      "source": [
        "# Analyze features"
      ]
    },
    {
      "cell_type": "code",
      "metadata": {
        "id": "e1AF5aLQ5sTJ",
        "colab_type": "code",
        "outputId": "47dcf606-3634-4302-969f-a8f58be83cd9",
        "colab": {
          "base_uri": "https://localhost:8080/",
          "height": 226
        }
      },
      "source": [
        "all_features_df = pd.DataFrame(data = all_features, columns=feature_names+basics+fuzzys+word_match_shares)\n",
        "all_features_df.head()"
      ],
      "execution_count": 0,
      "outputs": [
        {
          "output_type": "execute_result",
          "data": {
            "text/html": [
              "<div>\n",
              "<style scoped>\n",
              "    .dataframe tbody tr th:only-of-type {\n",
              "        vertical-align: middle;\n",
              "    }\n",
              "\n",
              "    .dataframe tbody tr th {\n",
              "        vertical-align: top;\n",
              "    }\n",
              "\n",
              "    .dataframe thead th {\n",
              "        text-align: right;\n",
              "    }\n",
              "</style>\n",
              "<table border=\"1\" class=\"dataframe\">\n",
              "  <thead>\n",
              "    <tr style=\"text-align: right;\">\n",
              "      <th></th>\n",
              "      <th>SBERT</th>\n",
              "      <th>doc2vec</th>\n",
              "      <th>sent2vec</th>\n",
              "      <th>SIF</th>\n",
              "      <th>Count</th>\n",
              "      <th>TFIDF</th>\n",
              "      <th>len_q1</th>\n",
              "      <th>len_q2</th>\n",
              "      <th>diff_len</th>\n",
              "      <th>len_char_q1</th>\n",
              "      <th>len_char_q2</th>\n",
              "      <th>len_word_q1</th>\n",
              "      <th>len_word_q2</th>\n",
              "      <th>common_words</th>\n",
              "      <th>fuzz_qratio</th>\n",
              "      <th>fuzz_WRatio</th>\n",
              "      <th>fuzz_partial_ratio</th>\n",
              "      <th>fuzz_partial_token_set_ratio</th>\n",
              "      <th>fuzz_partial_token_sort_ratio</th>\n",
              "      <th>fuzz_token_set_ratio</th>\n",
              "      <th>fuzz_token_sort_ratio</th>\n",
              "      <th>word_match</th>\n",
              "      <th>tfidf_match</th>\n",
              "    </tr>\n",
              "  </thead>\n",
              "  <tbody>\n",
              "    <tr>\n",
              "      <th>0</th>\n",
              "      <td>0.840102</td>\n",
              "      <td>0.945714</td>\n",
              "      <td>0.909948</td>\n",
              "      <td>0.951283</td>\n",
              "      <td>0.923077</td>\n",
              "      <td>0.802452</td>\n",
              "      <td>66.0</td>\n",
              "      <td>57.0</td>\n",
              "      <td>9.0</td>\n",
              "      <td>20.0</td>\n",
              "      <td>20.0</td>\n",
              "      <td>14.0</td>\n",
              "      <td>12.0</td>\n",
              "      <td>10.0</td>\n",
              "      <td>93.0</td>\n",
              "      <td>95.0</td>\n",
              "      <td>98.0</td>\n",
              "      <td>100.0</td>\n",
              "      <td>89.0</td>\n",
              "      <td>100.0</td>\n",
              "      <td>93.0</td>\n",
              "      <td>0.923077</td>\n",
              "      <td>0.956097</td>\n",
              "    </tr>\n",
              "    <tr>\n",
              "      <th>1</th>\n",
              "      <td>0.746924</td>\n",
              "      <td>0.671681</td>\n",
              "      <td>0.069640</td>\n",
              "      <td>0.202860</td>\n",
              "      <td>0.533333</td>\n",
              "      <td>0.419284</td>\n",
              "      <td>51.0</td>\n",
              "      <td>88.0</td>\n",
              "      <td>-37.0</td>\n",
              "      <td>21.0</td>\n",
              "      <td>29.0</td>\n",
              "      <td>8.0</td>\n",
              "      <td>13.0</td>\n",
              "      <td>4.0</td>\n",
              "      <td>66.0</td>\n",
              "      <td>86.0</td>\n",
              "      <td>73.0</td>\n",
              "      <td>100.0</td>\n",
              "      <td>75.0</td>\n",
              "      <td>86.0</td>\n",
              "      <td>63.0</td>\n",
              "      <td>0.533333</td>\n",
              "      <td>0.672097</td>\n",
              "    </tr>\n",
              "    <tr>\n",
              "      <th>2</th>\n",
              "      <td>0.891067</td>\n",
              "      <td>0.797049</td>\n",
              "      <td>0.439930</td>\n",
              "      <td>0.763748</td>\n",
              "      <td>0.363636</td>\n",
              "      <td>0.317999</td>\n",
              "      <td>73.0</td>\n",
              "      <td>59.0</td>\n",
              "      <td>14.0</td>\n",
              "      <td>25.0</td>\n",
              "      <td>24.0</td>\n",
              "      <td>14.0</td>\n",
              "      <td>10.0</td>\n",
              "      <td>4.0</td>\n",
              "      <td>54.0</td>\n",
              "      <td>63.0</td>\n",
              "      <td>53.0</td>\n",
              "      <td>100.0</td>\n",
              "      <td>71.0</td>\n",
              "      <td>66.0</td>\n",
              "      <td>66.0</td>\n",
              "      <td>0.363636</td>\n",
              "      <td>0.321940</td>\n",
              "    </tr>\n",
              "    <tr>\n",
              "      <th>3</th>\n",
              "      <td>0.281117</td>\n",
              "      <td>0.567116</td>\n",
              "      <td>0.091834</td>\n",
              "      <td>0.049076</td>\n",
              "      <td>0.000000</td>\n",
              "      <td>0.000000</td>\n",
              "      <td>50.0</td>\n",
              "      <td>65.0</td>\n",
              "      <td>-15.0</td>\n",
              "      <td>19.0</td>\n",
              "      <td>26.0</td>\n",
              "      <td>11.0</td>\n",
              "      <td>9.0</td>\n",
              "      <td>0.0</td>\n",
              "      <td>35.0</td>\n",
              "      <td>35.0</td>\n",
              "      <td>30.0</td>\n",
              "      <td>37.0</td>\n",
              "      <td>38.0</td>\n",
              "      <td>36.0</td>\n",
              "      <td>36.0</td>\n",
              "      <td>0.000000</td>\n",
              "      <td>0.000000</td>\n",
              "    </tr>\n",
              "    <tr>\n",
              "      <th>4</th>\n",
              "      <td>0.453246</td>\n",
              "      <td>0.655056</td>\n",
              "      <td>0.166427</td>\n",
              "      <td>0.630027</td>\n",
              "      <td>0.266667</td>\n",
              "      <td>0.000000</td>\n",
              "      <td>76.0</td>\n",
              "      <td>39.0</td>\n",
              "      <td>37.0</td>\n",
              "      <td>25.0</td>\n",
              "      <td>18.0</td>\n",
              "      <td>13.0</td>\n",
              "      <td>7.0</td>\n",
              "      <td>2.0</td>\n",
              "      <td>46.0</td>\n",
              "      <td>86.0</td>\n",
              "      <td>54.0</td>\n",
              "      <td>100.0</td>\n",
              "      <td>63.0</td>\n",
              "      <td>67.0</td>\n",
              "      <td>47.0</td>\n",
              "      <td>0.266667</td>\n",
              "      <td>0.267777</td>\n",
              "    </tr>\n",
              "  </tbody>\n",
              "</table>\n",
              "</div>"
            ],
            "text/plain": [
              "      SBERT   doc2vec  sent2vec  ...  fuzz_token_sort_ratio  word_match  tfidf_match\n",
              "0  0.840102  0.945714  0.909948  ...                   93.0    0.923077     0.956097\n",
              "1  0.746924  0.671681  0.069640  ...                   63.0    0.533333     0.672097\n",
              "2  0.891067  0.797049  0.439930  ...                   66.0    0.363636     0.321940\n",
              "3  0.281117  0.567116  0.091834  ...                   36.0    0.000000     0.000000\n",
              "4  0.453246  0.655056  0.166427  ...                   47.0    0.266667     0.267777\n",
              "\n",
              "[5 rows x 23 columns]"
            ]
          },
          "metadata": {
            "tags": []
          },
          "execution_count": 60
        }
      ]
    },
    {
      "cell_type": "code",
      "metadata": {
        "id": "hPsUTIn05Xjh",
        "colab_type": "code",
        "outputId": "0efb2948-94be-4396-865d-0d3459b2d3af",
        "colab": {
          "base_uri": "https://localhost:8080/",
          "height": 419
        }
      },
      "source": [
        "cor = all_features_df.corr()\n",
        "sns.heatmap(cor)"
      ],
      "execution_count": 0,
      "outputs": [
        {
          "output_type": "execute_result",
          "data": {
            "text/plain": [
              "<matplotlib.axes._subplots.AxesSubplot at 0x7f2e7451add8>"
            ]
          },
          "metadata": {
            "tags": []
          },
          "execution_count": 61
        },
        {
          "output_type": "display_data",
          "data": {
            "image/png": "[encoded data removed]",
            "text/plain": [
              "<Figure size 432x288 with 2 Axes>"
            ]
          },
          "metadata": {
            "tags": [],
            "needs_background": "light"
          }
        }
      ]
    },
    {
      "cell_type": "code",
      "metadata": {
        "id": "W-Mdyh-L_pS2",
        "colab_type": "code",
        "outputId": "655efbc3-d15a-4191-eb1b-822f67de4218",
        "colab": {
          "base_uri": "https://localhost:8080/",
          "height": 52
        }
      },
      "source": [
        "print((np.array(is_duplicates)==1).sum())\n",
        "print((np.array(is_duplicates)==0).sum())"
      ],
      "execution_count": 0,
      "outputs": [
        {
          "output_type": "stream",
          "text": [
            "149263\n",
            "255027\n"
          ],
          "name": "stdout"
        }
      ]
    },
    {
      "cell_type": "markdown",
      "metadata": {
        "id": "n2Oe9Gt5NOcs",
        "colab_type": "text"
      },
      "source": [
        "# Learning"
      ]
    },
    {
      "cell_type": "code",
      "metadata": {
        "id": "QKJ7aM2x7bGP",
        "colab_type": "code",
        "colab": {}
      },
      "source": [
        "from sklearn.model_selection import train_test_split\n",
        "import xgboost as xgb"
      ],
      "execution_count": 0,
      "outputs": []
    },
    {
      "cell_type": "code",
      "metadata": {
        "id": "KyHur3OLyvym",
        "colab_type": "code",
        "outputId": "ac40943e-cb52-4b06-f6a0-3b4c6f4c3845",
        "colab": {
          "base_uri": "https://localhost:8080/",
          "height": 781
        }
      },
      "source": [
        "params = {}\n",
        "params['objective'] = 'binary:logistic'\n",
        "params['eval_metric'] = 'logloss'\n",
        "params['eta'] = 0.02\n",
        "params['max_depth'] = 4\n",
        "\n",
        "X_train, X_valid, y_train, y_valid = all_features[train_index], all_features[valid_index], labels[train_index], labels[valid_index]\n",
        "# X_train, X_valid, y_train, y_valid = train_test_split(all_features, labels, train_size = 0.7, random_state=42, shuffle=True, stratify=labels)\n",
        "target_train = y_train\n",
        "target_valid = y_valid\n",
        "\n",
        "d_train = xgb.DMatrix(X_train, label=target_train)\n",
        "d_valid = xgb.DMatrix(X_valid, label=target_valid)\n",
        "watchlist = [(d_train, 'train'), (d_valid, 'valid')]\n",
        "\n",
        "model = xgb.train(params, d_train, 400, watchlist, early_stopping_rounds=50, verbose_eval=10)\n",
        "\n",
        "proba_predictions_train = model.predict(d_train)\n",
        "proba_predictions_valid = model.predict(d_valid)\n",
        "\n",
        "predictions_train = proba_predictions_train >= 0.5\n",
        "predictions_valid = proba_predictions_valid >= 0.5\n",
        "\n",
        "loss_train = log_loss(target_train, proba_predictions_train)\n",
        "loss_valid = log_loss(target_valid, proba_predictions_valid)\n",
        "\n",
        "accuracy_train = accuracy_score(target_train, predictions_train)\n",
        "accuracy_valid = accuracy_score(target_valid, predictions_valid)\n",
        "\n",
        "f1_train = f1_score(target_train, predictions_train)\n",
        "f1_valid = f1_score(target_valid, predictions_valid)\n",
        "\n",
        "print({'loss':np.round(loss_train,2), 'accuracy':np.round(accuracy_train,2), 'f1':np.round(f1_train,2)})\n",
        "print({'loss':np.round(loss_valid,2), 'accuracy':np.round(accuracy_valid,2), 'f1':np.round(f1_valid,2)})"
      ],
      "execution_count": 0,
      "outputs": [
        {
          "output_type": "stream",
          "text": [
            "[0]\ttrain-logloss:0.684927\tvalid-logloss:0.684916\n",
            "Multiple eval metrics have been passed: 'valid-logloss' will be used for early stopping.\n",
            "\n",
            "Will train until valid-logloss hasn't improved in 50 rounds.\n",
            "[10]\ttrain-logloss:0.621367\tvalid-logloss:0.621289\n",
            "[20]\ttrain-logloss:0.575977\tvalid-logloss:0.575981\n",
            "[30]\ttrain-logloss:0.542244\tvalid-logloss:0.54283\n",
            "[40]\ttrain-logloss:0.517487\tvalid-logloss:0.518109\n",
            "[50]\ttrain-logloss:0.498375\tvalid-logloss:0.498825\n",
            "[60]\ttrain-logloss:0.483469\tvalid-logloss:0.483974\n",
            "[70]\ttrain-logloss:0.471327\tvalid-logloss:0.472036\n",
            "[80]\ttrain-logloss:0.461391\tvalid-logloss:0.462633\n",
            "[90]\ttrain-logloss:0.453982\tvalid-logloss:0.455035\n",
            "[100]\ttrain-logloss:0.447596\tvalid-logloss:0.448708\n",
            "[110]\ttrain-logloss:0.442013\tvalid-logloss:0.443429\n",
            "[120]\ttrain-logloss:0.437719\tvalid-logloss:0.439029\n",
            "[130]\ttrain-logloss:0.434306\tvalid-logloss:0.435559\n",
            "[140]\ttrain-logloss:0.431108\tvalid-logloss:0.432524\n",
            "[150]\ttrain-logloss:0.428382\tvalid-logloss:0.429916\n",
            "[160]\ttrain-logloss:0.426448\tvalid-logloss:0.427799\n",
            "[170]\ttrain-logloss:0.424234\tvalid-logloss:0.425841\n",
            "[180]\ttrain-logloss:0.422786\tvalid-logloss:0.424302\n",
            "[190]\ttrain-logloss:0.421027\tvalid-logloss:0.422819\n",
            "[200]\ttrain-logloss:0.419794\tvalid-logloss:0.4216\n",
            "[210]\ttrain-logloss:0.41868\tvalid-logloss:0.420448\n",
            "[220]\ttrain-logloss:0.417697\tvalid-logloss:0.419443\n",
            "[230]\ttrain-logloss:0.41665\tvalid-logloss:0.418398\n",
            "[240]\ttrain-logloss:0.415805\tvalid-logloss:0.417537\n",
            "[250]\ttrain-logloss:0.414752\tvalid-logloss:0.416792\n",
            "[260]\ttrain-logloss:0.413821\tvalid-logloss:0.415948\n",
            "[270]\ttrain-logloss:0.412909\tvalid-logloss:0.415094\n",
            "[280]\ttrain-logloss:0.412146\tvalid-logloss:0.4144\n",
            "[290]\ttrain-logloss:0.411328\tvalid-logloss:0.413621\n",
            "[300]\ttrain-logloss:0.410575\tvalid-logloss:0.412933\n",
            "[310]\ttrain-logloss:0.409891\tvalid-logloss:0.4123\n",
            "[320]\ttrain-logloss:0.409078\tvalid-logloss:0.411531\n",
            "[330]\ttrain-logloss:0.408362\tvalid-logloss:0.410847\n",
            "[340]\ttrain-logloss:0.407783\tvalid-logloss:0.410298\n",
            "[350]\ttrain-logloss:0.40713\tvalid-logloss:0.409667\n",
            "[360]\ttrain-logloss:0.406613\tvalid-logloss:0.409179\n",
            "[370]\ttrain-logloss:0.406061\tvalid-logloss:0.408676\n",
            "[380]\ttrain-logloss:0.405581\tvalid-logloss:0.408238\n",
            "[390]\ttrain-logloss:0.405072\tvalid-logloss:0.407763\n",
            "[399]\ttrain-logloss:0.404625\tvalid-logloss:0.407337\n"
          ],
          "name": "stdout"
        }
      ]
    },
    {
      "cell_type": "code",
      "metadata": {
        "id": "_ahVrI7gIgfW",
        "colab_type": "code",
        "colab": {}
      },
      "source": [
        "params = {}\n",
        "params['objective'] = 'binary:logistic'\n",
        "params['eval_metric'] = 'logloss'\n",
        "params['eta'] = 0.02\n",
        "params['max_depth'] = 4\n",
        "\n",
        "X_train, X_valid, y_train, y_valid = all_features2[train_index], all_features2[valid_index], labels[train_index], labels[valid_index]\n",
        "target_train = y_train\n",
        "target_valid = y_valid\n",
        "\n",
        "d_train = xgb.DMatrix(X_train, label=target_train)\n",
        "d_valid = xgb.DMatrix(X_valid, label=target_valid)\n",
        "watchlist = [(d_train, 'train'), (d_valid, 'valid')]\n",
        "\n",
        "model = xgb.train(params, d_train, 400, watchlist, early_stopping_rounds=50, verbose_eval=10)\n",
        "\n",
        "proba_predictions_train = model.predict(d_train)\n",
        "proba_predictions_valid = model.predict(d_valid)\n",
        "\n",
        "predictions_train = proba_predictions_train >= 0.5\n",
        "predictions_valid = proba_predictions_valid >= 0.5\n",
        "\n",
        "loss_train = log_loss(target_train, proba_predictions_train)\n",
        "loss_valid = log_loss(target_valid, proba_predictions_valid)\n",
        "\n",
        "accuracy_train = accuracy_score(target_train, predictions_train)\n",
        "accuracy_valid = accuracy_score(target_valid, predictions_valid)\n",
        "\n",
        "f1_train = f1_score(target_train, predictions_train)\n",
        "f1_valid = f1_score(target_valid, predictions_valid)\n",
        "\n",
        "print({'loss':np.round(loss_train,2), 'accuracy':np.round(accuracy_train,2), 'f1':np.round(f1_train,2)})\n",
        "print({'loss':np.round(loss_valid,2), 'accuracy':np.round(accuracy_valid,2), 'f1':np.round(f1_valid,2)})"
      ],
      "execution_count": 0,
      "outputs": []
    },
    {
      "cell_type": "code",
      "metadata": {
        "id": "XebFE57E9tHe",
        "colab_type": "code",
        "colab": {
          "base_uri": "https://localhost:8080/",
          "height": 816
        },
        "outputId": "ea85d899-dbbb-45c0-bb37-7752cb774bd2"
      },
      "source": [
        "params = {}\n",
        "params['objective'] = 'binary:logistic'\n",
        "params['eval_metric'] = 'logloss'\n",
        "params['eta'] = 0.02\n",
        "params['max_depth'] = 4\n",
        "\n",
        "X_train, X_valid, y_train, y_valid = all_features3[train_index], all_features3[valid_index], labels[train_index], labels[valid_index]\n",
        "target_train = y_train\n",
        "target_valid = y_valid\n",
        "\n",
        "d_train = xgb.DMatrix(X_train, label=target_train)\n",
        "d_valid = xgb.DMatrix(X_valid, label=target_valid)\n",
        "watchlist = [(d_train, 'train'), (d_valid, 'valid')]\n",
        "\n",
        "model = xgb.train(params, d_train, 400, watchlist, early_stopping_rounds=50, verbose_eval=10)\n",
        "\n",
        "proba_predictions_train = model.predict(d_train)\n",
        "proba_predictions_valid = model.predict(d_valid)\n",
        "\n",
        "predictions_train = proba_predictions_train >= 0.5\n",
        "predictions_valid = proba_predictions_valid >= 0.5\n",
        "\n",
        "loss_train = log_loss(target_train, proba_predictions_train)\n",
        "loss_valid = log_loss(target_valid, proba_predictions_valid)\n",
        "\n",
        "accuracy_train = accuracy_score(target_train, predictions_train)\n",
        "accuracy_valid = accuracy_score(target_valid, predictions_valid)\n",
        "\n",
        "f1_train = f1_score(target_train, predictions_train)\n",
        "f1_valid = f1_score(target_valid, predictions_valid)\n",
        "\n",
        "print({'loss':np.round(loss_train,2), 'accuracy':np.round(accuracy_train,2), 'f1':np.round(f1_train,2)})\n",
        "print({'loss':np.round(loss_valid,2), 'accuracy':np.round(accuracy_valid,2), 'f1':np.round(f1_valid,2)})"
      ],
      "execution_count": 40,
      "outputs": [
        {
          "output_type": "stream",
          "text": [
            "[0]\ttrain-logloss:0.681306\tvalid-logloss:0.681969\n",
            "Multiple eval metrics have been passed: 'valid-logloss' will be used for early stopping.\n",
            "\n",
            "Will train until valid-logloss hasn't improved in 50 rounds.\n",
            "[10]\ttrain-logloss:0.584651\tvalid-logloss:0.591167\n",
            "[20]\ttrain-logloss:0.516074\tvalid-logloss:0.527552\n",
            "[30]\ttrain-logloss:0.465684\tvalid-logloss:0.48145\n",
            "[40]\ttrain-logloss:0.427799\tvalid-logloss:0.447241\n",
            "[50]\ttrain-logloss:0.398814\tvalid-logloss:0.421305\n",
            "[60]\ttrain-logloss:0.376341\tvalid-logloss:0.401466\n",
            "[70]\ttrain-logloss:0.358639\tvalid-logloss:0.386148\n",
            "[80]\ttrain-logloss:0.344665\tvalid-logloss:0.374383\n",
            "[90]\ttrain-logloss:0.333406\tvalid-logloss:0.365073\n",
            "[100]\ttrain-logloss:0.324317\tvalid-logloss:0.357814\n",
            "[110]\ttrain-logloss:0.316898\tvalid-logloss:0.352014\n",
            "[120]\ttrain-logloss:0.310901\tvalid-logloss:0.347449\n",
            "[130]\ttrain-logloss:0.305936\tvalid-logloss:0.343803\n",
            "[140]\ttrain-logloss:0.301881\tvalid-logloss:0.341071\n",
            "[150]\ttrain-logloss:0.298369\tvalid-logloss:0.338653\n",
            "[160]\ttrain-logloss:0.29532\tvalid-logloss:0.336532\n",
            "[170]\ttrain-logloss:0.292881\tvalid-logloss:0.334987\n",
            "[180]\ttrain-logloss:0.290749\tvalid-logloss:0.333651\n",
            "[190]\ttrain-logloss:0.288946\tvalid-logloss:0.332532\n",
            "[200]\ttrain-logloss:0.287433\tvalid-logloss:0.331604\n",
            "[210]\ttrain-logloss:0.286083\tvalid-logloss:0.330693\n",
            "[220]\ttrain-logloss:0.284957\tvalid-logloss:0.330035\n",
            "[230]\ttrain-logloss:0.283945\tvalid-logloss:0.329319\n",
            "[240]\ttrain-logloss:0.283039\tvalid-logloss:0.328719\n",
            "[250]\ttrain-logloss:0.282205\tvalid-logloss:0.328273\n",
            "[260]\ttrain-logloss:0.281442\tvalid-logloss:0.327773\n",
            "[270]\ttrain-logloss:0.28071\tvalid-logloss:0.327334\n",
            "[280]\ttrain-logloss:0.28005\tvalid-logloss:0.326916\n",
            "[290]\ttrain-logloss:0.279397\tvalid-logloss:0.326459\n",
            "[300]\ttrain-logloss:0.278817\tvalid-logloss:0.326137\n",
            "[310]\ttrain-logloss:0.278249\tvalid-logloss:0.325773\n",
            "[320]\ttrain-logloss:0.277823\tvalid-logloss:0.325551\n",
            "[330]\ttrain-logloss:0.277337\tvalid-logloss:0.325256\n",
            "[340]\ttrain-logloss:0.276892\tvalid-logloss:0.324982\n",
            "[350]\ttrain-logloss:0.276447\tvalid-logloss:0.324689\n",
            "[360]\ttrain-logloss:0.276\tvalid-logloss:0.324379\n",
            "[370]\ttrain-logloss:0.275625\tvalid-logloss:0.324204\n",
            "[380]\ttrain-logloss:0.27526\tvalid-logloss:0.323967\n",
            "[390]\ttrain-logloss:0.274915\tvalid-logloss:0.323755\n",
            "[399]\ttrain-logloss:0.27455\tvalid-logloss:0.323485\n",
            "{'loss': 0.27, 'accuracy': 0.88, 'f1': 0.83}\n",
            "{'loss': 0.32, 'accuracy': 0.85, 'f1': 0.8}\n"
          ],
          "name": "stdout"
        }
      ]
    }
  ]
}